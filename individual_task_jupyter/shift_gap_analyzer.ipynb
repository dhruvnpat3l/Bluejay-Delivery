{
 "cells": [
  {
   "cell_type": "code",
   "execution_count": 1,
   "metadata": {},
   "outputs": [],
   "source": [
    "import pandas as pd"
   ]
  },
  {
   "cell_type": "code",
   "execution_count": 2,
   "metadata": {},
   "outputs": [],
   "source": [
    "df = pd.read_excel('Assignment_Timecard.xlsx')"
   ]
  },
  {
   "cell_type": "code",
   "execution_count": 3,
   "metadata": {},
   "outputs": [],
   "source": [
    "df['Time'] = pd.to_datetime(df['Time'], format='%m-%d-%Y %I:%M %p')\n",
    "df['Time Out'] = pd.to_datetime(df['Time Out'], format='%m-%d-%Y %I:%M %p')"
   ]
  },
  {
   "cell_type": "code",
   "execution_count": 4,
   "metadata": {},
   "outputs": [],
   "source": [
    "df['Shift Duration'] = (df['Time Out'] - df['Time']).dt.total_seconds() / 3600"
   ]
  },
  {
   "cell_type": "code",
   "execution_count": 5,
   "metadata": {},
   "outputs": [],
   "source": [
    "long_shifts = df[df['Shift Duration'] > 14]"
   ]
  },
  {
   "cell_type": "code",
   "execution_count": 7,
   "metadata": {},
   "outputs": [
    {
     "name": "stdout",
     "output_type": "stream",
     "text": [
      "                        Employee Name                Time            Time Out  \\\n",
      "1036  DeXgadiXXE REdarMe, ChrisMiaW S 2023-09-17 04:00:01 2023-09-17 19:30:11   \n",
      "\n",
      "      Shift Duration  \n",
      "1036       15.502778  \n"
     ]
    }
   ],
   "source": [
    "print(long_shifts[['Employee Name', 'Time', 'Time Out', 'Shift Duration']])"
   ]
  },
  {
   "cell_type": "code",
   "execution_count": 8,
   "metadata": {},
   "outputs": [
    {
     "data": {
      "text/html": [
       "<div>\n",
       "<style scoped>\n",
       "    .dataframe tbody tr th:only-of-type {\n",
       "        vertical-align: middle;\n",
       "    }\n",
       "\n",
       "    .dataframe tbody tr th {\n",
       "        vertical-align: top;\n",
       "    }\n",
       "\n",
       "    .dataframe thead th {\n",
       "        text-align: right;\n",
       "    }\n",
       "</style>\n",
       "<table border=\"1\" class=\"dataframe\">\n",
       "  <thead>\n",
       "    <tr style=\"text-align: right;\">\n",
       "      <th></th>\n",
       "      <th>Position ID</th>\n",
       "      <th>Position Status</th>\n",
       "      <th>Time</th>\n",
       "      <th>Time Out</th>\n",
       "      <th>Timecard Hours (as Time)</th>\n",
       "      <th>Pay Cycle Start Date</th>\n",
       "      <th>Pay Cycle End Date</th>\n",
       "      <th>Employee Name</th>\n",
       "      <th>File Number</th>\n",
       "      <th>Shift Duration</th>\n",
       "    </tr>\n",
       "  </thead>\n",
       "  <tbody>\n",
       "    <tr>\n",
       "      <th>1036</th>\n",
       "      <td>WFS000523</td>\n",
       "      <td>Active</td>\n",
       "      <td>2023-09-17 04:00:01</td>\n",
       "      <td>2023-09-17 19:30:11</td>\n",
       "      <td>16:30</td>\n",
       "      <td>2023-09-10</td>\n",
       "      <td>2023-09-23</td>\n",
       "      <td>DeXgadiXXE REdarMe, ChrisMiaW S</td>\n",
       "      <td>523</td>\n",
       "      <td>15.502778</td>\n",
       "    </tr>\n",
       "  </tbody>\n",
       "</table>\n",
       "</div>"
      ],
      "text/plain": [
       "     Position ID Position Status                Time            Time Out  \\\n",
       "1036   WFS000523          Active 2023-09-17 04:00:01 2023-09-17 19:30:11   \n",
       "\n",
       "     Timecard Hours (as Time) Pay Cycle Start Date Pay Cycle End Date  \\\n",
       "1036                    16:30           2023-09-10         2023-09-23   \n",
       "\n",
       "                        Employee Name  File Number  Shift Duration  \n",
       "1036  DeXgadiXXE REdarMe, ChrisMiaW S          523       15.502778  "
      ]
     },
     "execution_count": 8,
     "metadata": {},
     "output_type": "execute_result"
    }
   ],
   "source": [
    "long_shifts"
   ]
  },
  {
   "cell_type": "code",
   "execution_count": null,
   "metadata": {},
   "outputs": [],
   "source": []
  }
 ],
 "metadata": {
  "kernelspec": {
   "display_name": "Python 3",
   "language": "python",
   "name": "python3"
  },
  "language_info": {
   "codemirror_mode": {
    "name": "ipython",
    "version": 3
   },
   "file_extension": ".py",
   "mimetype": "text/x-python",
   "name": "python",
   "nbconvert_exporter": "python",
   "pygments_lexer": "ipython3",
   "version": "3.10.9"
  },
  "orig_nbformat": 4
 },
 "nbformat": 4,
 "nbformat_minor": 2
}
